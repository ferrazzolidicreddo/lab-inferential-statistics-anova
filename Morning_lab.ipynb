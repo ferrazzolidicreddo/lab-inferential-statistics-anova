{
 "cells": [
  {
   "cell_type": "markdown",
   "metadata": {
    "id": "Pd-HopEJlVmv"
   },
   "source": [
    "# Morning Lab"
   ]
  },
  {
   "cell_type": "markdown",
   "metadata": {
    "id": "p7Nu3_g8lYVJ"
   },
   "source": [
    "## Loading libraries"
   ]
  },
  {
   "cell_type": "code",
   "execution_count": 1,
   "metadata": {
    "colab": {
     "base_uri": "https://localhost:8080/"
    },
    "id": "gVhhIbWplPsU",
    "outputId": "021ff785-ceb8-431e-803f-82efaa7ea885"
   },
   "outputs": [],
   "source": [
    "import statsmodels.api as sm\n",
    "from statsmodels.formula.api import ols\n",
    "import pandas as pd\n",
    "import numpy as np\n",
    "import researchpy as rp\n",
    "import scipy.stats as stats"
   ]
  },
  {
   "cell_type": "code",
   "execution_count": 2,
   "metadata": {
    "colab": {
     "base_uri": "https://localhost:8080/"
    },
    "id": "e7iDIu2EldL-",
    "outputId": "edd2150a-e8d4-4ed4-b492-3a37225a51ca"
   },
   "outputs": [
    {
     "name": "stdout",
     "output_type": "stream",
     "text": [
      "            df     sum_sq   mean_sq          F    PR(>F)\n",
      "C(Power)   2.0  18.176653  9.088327  36.878955  0.000008\n",
      "Residual  12.0   2.957240  0.246437        NaN       NaN\n"
     ]
    }
   ],
   "source": [
    "data = pd.read_excel('anova_lab_data.xlsx', sheet_name='data_collected')\n",
    "data.head()\n",
    "\n",
    "model1 = ols('Etching_rate ~ C(Power)',data=data).fit()\n",
    "table1 = sm.stats.anova_lm(model1)\n",
    "print(table1)"
   ]
  },
  {
   "cell_type": "markdown",
   "metadata": {},
   "source": [
    "# Lab | Inferential statistics - ANOVA\n",
    "    Note: The following lab is divided in 2 sections which represent activities 3 and 4.\n",
    "\n",
    "        Part 1\n",
    "        In this activity, we will look at another example. Your task is to understand the problem and write down all the steps to set up ANOVA. After the next lesson, we will ask you to solve this problem using Python.\n",
    "\n",
    "    Context\n",
    "    Suppose you are working as an analyst in a microprocessor chip manufacturing plant. You have been given the task of analyzing a plasma etching process with respect to changing Power (in Watts) of the plasma beam. Data was collected and provided to you to conduct statistical analysis and check if changing the power of the plasma beam has any effect on the etching rate by the machine. You will conduct ANOVA and check if there is any difference in the mean etching rate for different levels of power.\n",
    "\n",
    "    > State the null hypothesis\n",
    "    > State the alternate hypothesis\n",
    "    > What is the significance level\n",
    "    > What are the degrees of freedom of model, error terms, and total DoF\n",
    "    > Data was collected randomly and provided to you in the table as shown: link to the image - Data"
   ]
  },
  {
   "cell_type": "markdown",
   "metadata": {},
   "source": [
    "    H0 = There are no significant difference between the mean etching rate for levels of power\n",
    "    Ha = There are significant difference between the mean etching rate for levels of power\n",
    "    Significance level = 0.05\n",
    "    df_model = 2\n",
    "    df_total = 12\n",
    "    SSE = "
   ]
  },
  {
   "cell_type": "code",
   "execution_count": 3,
   "metadata": {},
   "outputs": [],
   "source": [
    "Power_160 = [5.43, 5.71, 6.22, 6.01, 5.59]\n",
    "Power_180 = [6.24, 6.71, 5.98, 5.66, 6.60]\n",
    "Power_200 = [8.79, 9.20, 7.90, 8.15, 7.55]"
   ]
  },
  {
   "cell_type": "code",
   "execution_count": 4,
   "metadata": {},
   "outputs": [
    {
     "name": "stdout",
     "output_type": "stream",
     "text": [
      "The mean of Sample 1: 5.79\n",
      "The std of Sample 1: 0.29\n",
      "The mean of Sample 2: 6.24\n",
      "The std of Sample 2: 0.39\n",
      "The mean of Sample 2: 8.32\n",
      "The std of Sample 2: 0.6\n"
     ]
    }
   ],
   "source": [
    "sample_mean1 = np.mean(Power_160)\n",
    "sample_std1 = np.std(Power_160)\n",
    "n1 = 5\n",
    "sample_mean2 = np.mean(Power_180)\n",
    "sample_std2 = np.std(Power_180)\n",
    "n2 = 5\n",
    "sample_mean3 = np.mean(Power_200)\n",
    "sample_std3 = np.std(Power_200)\n",
    "n3 = 5\n",
    "\n",
    "print(\"The mean of Sample 1:\", round(sample_mean1,2))\n",
    "print(\"The std of Sample 1:\", round(sample_std1,2))\n",
    "print(\"The mean of Sample 2:\", round(sample_mean2,2))\n",
    "print(\"The std of Sample 2:\", round(sample_std2, 2))\n",
    "print(\"The mean of Sample 2:\", round(sample_mean3,2))\n",
    "print(\"The std of Sample 2:\", round(sample_std3, 2))"
   ]
  },
  {
   "cell_type": "markdown",
   "metadata": {},
   "source": [
    "### Compute SSE, the error sum of squares\n",
    "\n",
    "    Here we utilize the property that the treatment sum of squares plus the error sum of squares equals the total sum of squares. Hence,\n",
    "    \n",
    "    SSE = SS(Total) − SST"
   ]
  },
  {
   "cell_type": "code",
   "execution_count": 5,
   "metadata": {},
   "outputs": [
    {
     "data": {
      "text/plain": [
       "15.057510586332423"
      ]
     },
     "execution_count": 5,
     "metadata": {},
     "output_type": "execute_result"
    }
   ],
   "source": [
    "Power_160_error = Power_160/sample_mean1\n",
    "Power_180_error = Power_180/sample_mean2\n",
    "Power_200_error = Power_200/sample_mean3\n",
    "\n",
    "Sq_power_160_error = Power_160_error**2\n",
    "Sq_power_180_error = Power_180_error**2\n",
    "Sq_power_200_error = Power_200_error**2\n",
    "\n",
    "SSE_160 = sum(Sq_power_160_error)\n",
    "SSE_180 = sum(Sq_power_180_error)\n",
    "SSE_200 = sum(Sq_power_200_error)\n",
    "\n",
    "SUMSSE = SSE_160 + SSE_180 + SSE_200\n",
    "\n",
    "SUMSSE"
   ]
  },
  {
   "cell_type": "markdown",
   "metadata": {},
   "source": [
    "    TSS 72209.75\tSquares of individual deviations from the total mean\n",
    "    SST\t66870.55\tSquares of group means deviations from the total mean weithed by number of membes in each group.\n",
    "    SSE\t5339.20\tSquares of individual values from the mean of the corresponding group"
   ]
  },
  {
   "cell_type": "markdown",
   "metadata": {},
   "source": [
    "    Part 2\n",
    "    In this section, use the Python to conduct ANOVA.\n",
    "    What conclusions can you draw from the experiment and why?"
   ]
  },
  {
   "cell_type": "code",
   "execution_count": 6,
   "metadata": {},
   "outputs": [
    {
     "data": {
      "text/html": [
       "<div>\n",
       "<style scoped>\n",
       "    .dataframe tbody tr th:only-of-type {\n",
       "        vertical-align: middle;\n",
       "    }\n",
       "\n",
       "    .dataframe tbody tr th {\n",
       "        vertical-align: top;\n",
       "    }\n",
       "\n",
       "    .dataframe thead th {\n",
       "        text-align: right;\n",
       "    }\n",
       "</style>\n",
       "<table border=\"1\" class=\"dataframe\">\n",
       "  <thead>\n",
       "    <tr style=\"text-align: right;\">\n",
       "      <th></th>\n",
       "      <th>Power</th>\n",
       "      <th>Etching_rate</th>\n",
       "    </tr>\n",
       "  </thead>\n",
       "  <tbody>\n",
       "    <tr>\n",
       "      <th>0</th>\n",
       "      <td>160 W</td>\n",
       "      <td>5.43</td>\n",
       "    </tr>\n",
       "    <tr>\n",
       "      <th>1</th>\n",
       "      <td>180 W</td>\n",
       "      <td>6.24</td>\n",
       "    </tr>\n",
       "    <tr>\n",
       "      <th>2</th>\n",
       "      <td>200 W</td>\n",
       "      <td>8.79</td>\n",
       "    </tr>\n",
       "    <tr>\n",
       "      <th>3</th>\n",
       "      <td>160 W</td>\n",
       "      <td>5.71</td>\n",
       "    </tr>\n",
       "    <tr>\n",
       "      <th>4</th>\n",
       "      <td>180 W</td>\n",
       "      <td>6.71</td>\n",
       "    </tr>\n",
       "  </tbody>\n",
       "</table>\n",
       "</div>"
      ],
      "text/plain": [
       "   Power  Etching_rate\n",
       "0  160 W          5.43\n",
       "1  180 W          6.24\n",
       "2  200 W          8.79\n",
       "3  160 W          5.71\n",
       "4  180 W          6.71"
      ]
     },
     "execution_count": 6,
     "metadata": {},
     "output_type": "execute_result"
    }
   ],
   "source": [
    "data = pd.read_excel('anova_lab_data.xlsx', sheet_name='data_collected')\n",
    "data.head()"
   ]
  },
  {
   "cell_type": "code",
   "execution_count": 7,
   "metadata": {},
   "outputs": [
    {
     "name": "stdout",
     "output_type": "stream",
     "text": [
      "            df     sum_sq   mean_sq          F    PR(>F)\n",
      "C(Power)   2.0  18.176653  9.088327  36.878955  0.000008\n",
      "Residual  12.0   2.957240  0.246437        NaN       NaN\n"
     ]
    }
   ],
   "source": [
    "model1 = ols('Etching_rate ~ C(Power)',data=data).fit()\n",
    "table1 = sm.stats.anova_lm(model1)\n",
    "print(table1)"
   ]
  },
  {
   "cell_type": "code",
   "execution_count": 8,
   "metadata": {
    "colab": {
     "base_uri": "https://localhost:8080/"
    },
    "id": "f4vrodCGbCv7",
    "outputId": "6462e7cc-eef6-4c67-e228-2b053b960bda"
   },
   "outputs": [
    {
     "name": "stdout",
     "output_type": "stream",
     "text": [
      "<class 'pandas.core.frame.DataFrame'>\n",
      "RangeIndex: 15 entries, 0 to 14\n",
      "Data columns (total 2 columns):\n",
      " #   Column        Non-Null Count  Dtype  \n",
      "---  ------        --------------  -----  \n",
      " 0   Power         15 non-null     object \n",
      " 1   Etching_rate  15 non-null     float64\n",
      "dtypes: float64(1), object(1)\n",
      "memory usage: 368.0+ bytes\n"
     ]
    }
   ],
   "source": [
    "# Recoding value from numeric to string\n",
    "data['Power'].replace({1: '160 W', 2: '180 W', 3: '200 W'}, inplace= True)\n",
    "\n",
    "data.info()"
   ]
  },
  {
   "cell_type": "code",
   "execution_count": 9,
   "metadata": {
    "colab": {
     "base_uri": "https://localhost:8080/",
     "height": 110
    },
    "id": "3qc-T1uDb0Dv",
    "outputId": "c199bdf2-06f8-42c3-acd6-13fc772b5449"
   },
   "outputs": [
    {
     "name": "stdout",
     "output_type": "stream",
     "text": [
      "\n",
      "\n"
     ]
    },
    {
     "data": {
      "text/html": [
       "<div>\n",
       "<style scoped>\n",
       "    .dataframe tbody tr th:only-of-type {\n",
       "        vertical-align: middle;\n",
       "    }\n",
       "\n",
       "    .dataframe tbody tr th {\n",
       "        vertical-align: top;\n",
       "    }\n",
       "\n",
       "    .dataframe thead th {\n",
       "        text-align: right;\n",
       "    }\n",
       "</style>\n",
       "<table border=\"1\" class=\"dataframe\">\n",
       "  <thead>\n",
       "    <tr style=\"text-align: right;\">\n",
       "      <th></th>\n",
       "      <th>Variable</th>\n",
       "      <th>N</th>\n",
       "      <th>Mean</th>\n",
       "      <th>SD</th>\n",
       "      <th>SE</th>\n",
       "      <th>95% Conf.</th>\n",
       "      <th>Interval</th>\n",
       "    </tr>\n",
       "  </thead>\n",
       "  <tbody>\n",
       "    <tr>\n",
       "      <th>0</th>\n",
       "      <td>Etching_rate</td>\n",
       "      <td>15.0</td>\n",
       "      <td>6.7827</td>\n",
       "      <td>1.2286</td>\n",
       "      <td>0.3172</td>\n",
       "      <td>6.1023</td>\n",
       "      <td>7.4631</td>\n",
       "    </tr>\n",
       "  </tbody>\n",
       "</table>\n",
       "</div>"
      ],
      "text/plain": [
       "       Variable     N    Mean      SD      SE  95% Conf.  Interval\n",
       "0  Etching_rate  15.0  6.7827  1.2286  0.3172     6.1023    7.4631"
      ]
     },
     "execution_count": 9,
     "metadata": {},
     "output_type": "execute_result"
    }
   ],
   "source": [
    "rp.summary_cont(data['Etching_rate'])"
   ]
  },
  {
   "cell_type": "code",
   "execution_count": 10,
   "metadata": {
    "colab": {
     "base_uri": "https://localhost:8080/",
     "height": 199
    },
    "id": "gFsar2ELbq8f",
    "outputId": "111e9cb5-dda8-45db-dd7a-4d54b94298a3"
   },
   "outputs": [
    {
     "name": "stdout",
     "output_type": "stream",
     "text": [
      "\n",
      "\n"
     ]
    },
    {
     "data": {
      "text/html": [
       "<div>\n",
       "<style scoped>\n",
       "    .dataframe tbody tr th:only-of-type {\n",
       "        vertical-align: middle;\n",
       "    }\n",
       "\n",
       "    .dataframe tbody tr th {\n",
       "        vertical-align: top;\n",
       "    }\n",
       "\n",
       "    .dataframe thead th {\n",
       "        text-align: right;\n",
       "    }\n",
       "</style>\n",
       "<table border=\"1\" class=\"dataframe\">\n",
       "  <thead>\n",
       "    <tr style=\"text-align: right;\">\n",
       "      <th></th>\n",
       "      <th>N</th>\n",
       "      <th>Mean</th>\n",
       "      <th>SD</th>\n",
       "      <th>SE</th>\n",
       "      <th>95% Conf.</th>\n",
       "      <th>Interval</th>\n",
       "    </tr>\n",
       "    <tr>\n",
       "      <th>Power</th>\n",
       "      <th></th>\n",
       "      <th></th>\n",
       "      <th></th>\n",
       "      <th></th>\n",
       "      <th></th>\n",
       "      <th></th>\n",
       "    </tr>\n",
       "  </thead>\n",
       "  <tbody>\n",
       "    <tr>\n",
       "      <th>160 W</th>\n",
       "      <td>5</td>\n",
       "      <td>5.792</td>\n",
       "      <td>0.3199</td>\n",
       "      <td>0.1431</td>\n",
       "      <td>5.3948</td>\n",
       "      <td>6.1892</td>\n",
       "    </tr>\n",
       "    <tr>\n",
       "      <th>180 W</th>\n",
       "      <td>5</td>\n",
       "      <td>6.238</td>\n",
       "      <td>0.4343</td>\n",
       "      <td>0.1942</td>\n",
       "      <td>5.6987</td>\n",
       "      <td>6.7773</td>\n",
       "    </tr>\n",
       "    <tr>\n",
       "      <th>200 W</th>\n",
       "      <td>5</td>\n",
       "      <td>8.318</td>\n",
       "      <td>0.6696</td>\n",
       "      <td>0.2995</td>\n",
       "      <td>7.4866</td>\n",
       "      <td>9.1494</td>\n",
       "    </tr>\n",
       "  </tbody>\n",
       "</table>\n",
       "</div>"
      ],
      "text/plain": [
       "       N   Mean      SD      SE  95% Conf.  Interval\n",
       "Power                                               \n",
       "160 W  5  5.792  0.3199  0.1431     5.3948    6.1892\n",
       "180 W  5  6.238  0.4343  0.1942     5.6987    6.7773\n",
       "200 W  5  8.318  0.6696  0.2995     7.4866    9.1494"
      ]
     },
     "execution_count": 10,
     "metadata": {},
     "output_type": "execute_result"
    }
   ],
   "source": [
    "rp.summary_cont(data['Etching_rate'].groupby(data['Power']))"
   ]
  },
  {
   "cell_type": "code",
   "execution_count": 11,
   "metadata": {
    "colab": {
     "base_uri": "https://localhost:8080/"
    },
    "id": "uoR4tDgpbby7",
    "outputId": "93acf938-1570-4b6c-830f-2d5fb8d07e41",
    "scrolled": true
   },
   "outputs": [
    {
     "data": {
      "text/plain": [
       "F_onewayResult(statistic=36.87895470100504, pvalue=7.5065842723589115e-06)"
      ]
     },
     "execution_count": 11,
     "metadata": {},
     "output_type": "execute_result"
    }
   ],
   "source": [
    "stats.f_oneway(data['Etching_rate'][data['Power'] == '200 W'],\n",
    "               data['Etching_rate'][data['Power'] == '180 W'],\n",
    "               data['Etching_rate'][data['Power'] == '160 W'])"
   ]
  }
 ],
 "metadata": {
  "colab": {
   "name": "F-table.ipynb",
   "provenance": [],
   "toc_visible": true
  },
  "kernelspec": {
   "display_name": "Python 3",
   "language": "python",
   "name": "python3"
  },
  "language_info": {
   "codemirror_mode": {
    "name": "ipython",
    "version": 3
   },
   "file_extension": ".py",
   "mimetype": "text/x-python",
   "name": "python",
   "nbconvert_exporter": "python",
   "pygments_lexer": "ipython3",
   "version": "3.7.6"
  }
 },
 "nbformat": 4,
 "nbformat_minor": 1
}
